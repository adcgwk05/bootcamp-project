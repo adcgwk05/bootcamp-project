{
  "nbformat": 4,
  "nbformat_minor": 0,
  "metadata": {
    "colab": {
      "name": "Apoorva_chinta.ipynb",
      "provenance": []
    },
    "kernelspec": {
      "name": "python3",
      "display_name": "Python 3"
    },
    "language_info": {
      "name": "python"
    }
  },
  "cells": [
    {
      "cell_type": "markdown",
      "metadata": {
        "id": "T3-LT6j0hHO7"
      },
      "source": [
        ""
      ]
    },
    {
      "cell_type": "markdown",
      "metadata": {
        "id": "khlcKESxsT-R"
      },
      "source": [
        ""
      ]
    },
    {
      "cell_type": "code",
      "metadata": {
        "id": "ea_1gmX6cM4U",
        "colab": {
          "base_uri": "https://localhost:8080/"
        },
        "outputId": "b39da31f-aa4f-4391-a151-8db9900d693b"
      },
      "source": [
        " import hashlib\n",
        "text = \"Apoorva\"\n",
        " \n",
        "hash_object = hashlib.md5(text.encode())\n",
        "md5_hash = hash_object.hexdigest()\n",
        " \n",
        "print(md5_hash)"
      ],
      "execution_count": null,
      "outputs": [
        {
          "output_type": "stream",
          "text": [
            "0a8cbe515dd4acde4d6d96599d1a9c22\n"
          ],
          "name": "stdout"
        }
      ]
    }
  ]
}