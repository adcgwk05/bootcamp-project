{
  "nbformat": 4,
  "nbformat_minor": 0,
  "metadata": {
    "colab": {
      "name": "Untitled2.ipynb",
      "provenance": []
    },
    "kernelspec": {
      "name": "python3",
      "display_name": "Python 3"
    },
    "language_info": {
      "name": "python"
    }
  },
  "cells": [
    {
      "cell_type": "code",
      "metadata": {
        "id": "cWZdHC8cq5iR",
        "outputId": "841506a2-b2ca-421a-a77b-d43e04368432",
        "colab": {
          "base_uri": "https://localhost:8080/"
        }
      },
      "source": [
        "import hashlib\n",
        "text = \"Apoorva\"\n",
        "\n",
        "hash_object = hashlib.md5(text.encode())\n",
        "md5_hash = hash_object.hexdigest()\n",
        "\n",
        "print(md5_hash)"
      ],
      "execution_count": 1,
      "outputs": [
        {
          "output_type": "stream",
          "text": [
            "0a8cbe515dd4acde4d6d96599d1a9c22\n"
          ],
          "name": "stdout"
        }
      ]
    }
  ]
}